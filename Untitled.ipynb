{
 "cells": [
  {
   "cell_type": "code",
   "execution_count": 24,
   "id": "a3b349bd-ea2a-40cd-879f-d0d6d67e9645",
   "metadata": {},
   "outputs": [],
   "source": [
    "import tensorflow as tf\n",
    "import os\n",
    "\n",
    "# Path to your dataset\n",
    "dataset_dir = r\"C:\\Users\\USER\\Documents\\Thesis Dataset\"\n",
    "\n",
    "# Parameters\n",
    "img_size = (224, 224)\n",
    "batch_size = 32\n",
    "seed = 123"
   ]
  },
  {
   "cell_type": "markdown",
   "id": "0aa1a064-21f4-4971-b546-37a7930f3e7f",
   "metadata": {},
   "source": [
    "-------------------------------\n",
    "Step 1: Load the dataset (80% train+val, 20% test)\n",
    "\n",
    "-------------------------------"
   ]
  },
  {
   "cell_type": "code",
   "execution_count": 25,
   "id": "89b5362d-a131-40d7-8efd-e07084cb26cf",
   "metadata": {},
   "outputs": [
    {
     "name": "stdout",
     "output_type": "stream",
     "text": [
      "Found 15766 files belonging to 3 classes.\n",
      "Using 12613 files for training.\n",
      "Found 15766 files belonging to 3 classes.\n",
      "Using 3153 files for validation.\n"
     ]
    }
   ],
   "source": [
    "train_val_ds = tf.keras.utils.image_dataset_from_directory(\n",
    "    dataset_dir,\n",
    "    validation_split=0.2,\n",
    "    subset=\"training\",\n",
    "    seed=seed,\n",
    "    image_size=img_size,\n",
    "    batch_size=batch_size\n",
    ")\n",
    "\n",
    "test_ds = tf.keras.utils.image_dataset_from_directory(\n",
    "    dataset_dir,\n",
    "    validation_split=0.2,\n",
    "    subset=\"validation\",\n",
    "    seed=seed,\n",
    "    image_size=img_size,\n",
    "    batch_size=batch_size\n",
    ")"
   ]
  },
  {
   "cell_type": "markdown",
   "id": "2fac0cb9-663d-4e21-a88c-1374e10098dc",
   "metadata": {},
   "source": [
    "-------------------------------\n",
    "Step 2: Split train+val further (60% train, 20% val)\n",
    "\n",
    "-------------------------------"
   ]
  },
  {
   "cell_type": "code",
   "execution_count": 26,
   "id": "e5aa6545-42c8-49d1-af3a-c3b54ff2ed53",
   "metadata": {},
   "outputs": [],
   "source": [
    "# Total size of train_val_ds\n",
    "train_val_size = tf.data.experimental.cardinality(train_val_ds).numpy()\n",
    "\n",
    "# Calculate split sizes\n",
    "train_size = int(train_val_size * 0.75)  # 75% of 80% = 60%\n",
    "val_size = train_val_size - train_size   # remaining 25% of 80% = 20%\n",
    "\n",
    "train_ds = train_val_ds.take(train_size)\n",
    "val_ds = train_val_ds.skip(train_size)"
   ]
  },
  {
   "cell_type": "markdown",
   "id": "321fff64-142e-4916-9096-1df9d2bc28a1",
   "metadata": {},
   "source": [
    "-------------------------------\n",
    "Step 3: Normalize pixel values [0,1]\n",
    "\n",
    "-------------------------------"
   ]
  },
  {
   "cell_type": "code",
   "execution_count": 27,
   "id": "d2dde7d0-9f02-4bfb-8ba9-7b60369825db",
   "metadata": {},
   "outputs": [],
   "source": [
    "normalization_layer = tf.keras.layers.Rescaling(1./255)\n",
    "\n",
    "train_ds = train_ds.map(lambda x, y: (normalization_layer(x), y))\n",
    "val_ds = val_ds.map(lambda x, y: (normalization_layer(x), y))\n",
    "test_ds = test_ds.map(lambda x, y: (normalization_layer(x), y))\n",
    "\n",
    "AUTOTUNE = tf.data.AUTOTUNE\n",
    "\n",
    "train_ds = train_ds.cache().shuffle(1000).prefetch(buffer_size=AUTOTUNE)\n",
    "val_ds = val_ds.cache().prefetch(buffer_size=AUTOTUNE)\n",
    "test_ds = test_ds.cache().prefetch(buffer_size=AUTOTUNE)"
   ]
  },
  {
   "cell_type": "code",
   "execution_count": 29,
   "id": "4e37e9b5-e9c6-4d8d-a31c-5502a6f4607a",
   "metadata": {},
   "outputs": [
    {
     "name": "stdout",
     "output_type": "stream",
     "text": [
      "Image batch shape: (32, 224, 224, 3)\n",
      "Label batch shape: (32,)\n"
     ]
    }
   ],
   "source": [
    "for images, labels in train_ds.take(1):\n",
    "    print(\"Image batch shape:\", images.shape)\n",
    "    print(\"Label batch shape:\", labels.shape)"
   ]
  },
  {
   "cell_type": "code",
   "execution_count": 1,
   "id": "0e161ae9-59a4-4a0a-9ee0-b673f2aa713d",
   "metadata": {},
   "outputs": [
    {
     "name": "stdout",
     "output_type": "stream",
     "text": [
      "Name: tensorflow\n",
      "Version: 2.20.0\n",
      "Summary: TensorFlow is an open source machine learning framework for everyone.\n",
      "Home-page: https://www.tensorflow.org/\n",
      "Author: Google Inc.\n",
      "Author-email: packages@tensorflow.org\n",
      "License: Apache 2.0\n",
      "Location: C:\\Users\\USER\\anaconda3\\Lib\\site-packages\n",
      "Requires: absl-py, astunparse, flatbuffers, gast, google_pasta, grpcio, h5py, keras, libclang, ml_dtypes, numpy, opt_einsum, packaging, protobuf, requests, setuptools, six, tensorboard, termcolor, typing_extensions, wrapt\n",
      "Required-by: \n"
     ]
    }
   ],
   "source": [
    "!pip show tensorflow"
   ]
  },
  {
   "cell_type": "code",
   "execution_count": null,
   "id": "22a1fd46-492f-4121-925f-11792ac0ccd5",
   "metadata": {},
   "outputs": [],
   "source": []
  }
 ],
 "metadata": {
  "kernelspec": {
   "display_name": "base",
   "language": "python",
   "name": "python3"
  },
  "language_info": {
   "codemirror_mode": {
    "name": "ipython",
    "version": 3
   },
   "file_extension": ".py",
   "mimetype": "text/x-python",
   "name": "python",
   "nbconvert_exporter": "python",
   "pygments_lexer": "ipython3",
   "version": "3.13.5"
  }
 },
 "nbformat": 4,
 "nbformat_minor": 5
}
