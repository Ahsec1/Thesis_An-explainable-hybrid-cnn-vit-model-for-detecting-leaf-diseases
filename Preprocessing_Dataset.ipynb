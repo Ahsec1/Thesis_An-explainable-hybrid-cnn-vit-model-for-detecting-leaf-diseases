{
 "cells": [
  {
   "cell_type": "code",
   "execution_count": 36,
   "id": "a3b349bd-ea2a-40cd-879f-d0d6d67e9645",
   "metadata": {},
   "outputs": [],
   "source": [
    "import os\n",
    "import shutil\n",
    "import random\n",
    "from sklearn.model_selection import train_test_split"
   ]
  },
  {
   "cell_type": "markdown",
   "id": "aece2bde-ee37-45b8-82bf-14d1cecb0324",
   "metadata": {},
   "source": [
    "\n",
    "#### Configuration\n",
    "---"
   ]
  },
  {
   "cell_type": "code",
   "execution_count": 38,
   "id": "c3e95d5f-f7af-4060-a38d-86d04a4440a4",
   "metadata": {},
   "outputs": [],
   "source": [
    "\n",
    "ORIGINAL_DATASET = r\"C:\\Users\\USER\\Documents\\Thesis Dataset\\Original Dataset\"\n",
    "\n",
    "# Defining path variables for splitting the data\n",
    "BASE_OUTPUT = r\"C:\\Users\\USER\\Documents\\Thesis Dataset\\Processed Dataset\"\n",
    "TRAIN_DIR = os.path.join(BASE_OUTPUT, \"train\")\n",
    "VAL_DIR   = os.path.join(BASE_OUTPUT, \"val\")\n",
    "TEST_DIR  = os.path.join(BASE_OUTPUT, \"test\")\n",
    "\n",
    "# Splitting percentage or proportion\n",
    "train_ratio = 0.70\n",
    "val_ratio   = 0.15\n",
    "test_ratio  = 0.15\n",
    "\n",
    "IMG_EXTENSIONS = (\".jpg\", \".jpeg\", \".png\")"
   ]
  },
  {
   "cell_type": "markdown",
   "id": "6eb72708-d55a-47e5-9e0e-4717efc92fdd",
   "metadata": {},
   "source": [
    "#### Clean and Create Directories \n",
    "\n",
    "Remove old processed data to avoid duplicates and create paths for training, validation and testing"
   ]
  },
  {
   "cell_type": "code",
   "execution_count": 39,
   "id": "d03c1052-774d-4026-8844-a5458103277a",
   "metadata": {},
   "outputs": [],
   "source": [
    "\n",
    "# Deletes an already existed file\n",
    "if os.path.exists(BASE_OUTPUT):\n",
    "    shutil.rmtree(BASE_OUTPUT)\n",
    "\n",
    "# Creates the directory for the path variables\n",
    "for dir_path in [TRAIN_DIR, VAL_DIR, TEST_DIR]:\n",
    "    os.makedirs(dir_path, exist_ok=True)"
   ]
  },
  {
   "cell_type": "markdown",
   "id": "1562f610-e0eb-44e3-8956-2e58f4e9d9d5",
   "metadata": {},
   "source": [
    "\n",
    "#### SPLIT & COPY FUNCTION"
   ]
  },
  {
   "cell_type": "code",
   "execution_count": 40,
   "id": "a8851c9b-a5a7-46d8-b9ab-3dfdcfb70a94",
   "metadata": {},
   "outputs": [],
   "source": [
    "\n",
    "def split_and_copy(class_images, train_path, val_path, test_path):\n",
    "    \"\"\"Split the list of image paths into train/val/test and copy once.\"\"\"\n",
    "    if len(class_images) < 3:\n",
    "        print(f\"Folder is Empty or does not have an image: {os.path.basename(train_path)}\")\n",
    "        return\n",
    "\n",
    "    random.shuffle(class_images)\n",
    "\n",
    "    # Splitting Data: Train vs Temp (Val+Test)\n",
    "    train_imgs, temp_imgs = train_test_split(\n",
    "        class_images, test_size=(1 - train_ratio), random_state=42\n",
    "    )\n",
    "    # Splitting the Temp: Validation and Test\n",
    "    val_imgs, test_imgs = train_test_split(\n",
    "        temp_imgs,\n",
    "        test_size=(test_ratio / (test_ratio + val_ratio)),\n",
    "        random_state=42,\n",
    "    )\n",
    "\n",
    "    # Copy each image\n",
    "    for img in train_imgs:\n",
    "        shutil.copy2(img, train_path)\n",
    "    for img in val_imgs:\n",
    "        shutil.copy2(img, val_path)\n",
    "    for img in test_imgs:\n",
    "        shutil.copy2(img, test_path)"
   ]
  },
  {
   "cell_type": "markdown",
   "id": "9d83209e-90ae-4e20-99fb-bb18aa558517",
   "metadata": {},
   "source": [
    "\n",
    "#### Main loop\n",
    "Loop for each plant to be splitted and copy to the processed folder\n",
    "\n",
    "split and copy function is used"
   ]
  },
  {
   "cell_type": "code",
   "execution_count": 41,
   "id": "1967d0e6-22b3-4fd9-ae8f-0608438b1fca",
   "metadata": {},
   "outputs": [
    {
     "name": "stdout",
     "output_type": "stream",
     "text": [
      "Banana_Leaf_Disease_Dataset_Bangladesh/Healthy: 1108 images processed\n",
      "Banana_Leaf_Disease_Dataset_Bangladesh/Panama Disease: 835 images processed\n",
      "Banana_Leaf_Disease_Dataset_Bangladesh/Yellow and Black Sigatoka: 2597 images processed\n",
      "Banana_Leaf_Disease_Dataset_Bangladesh/cordana: 442 images processed\n",
      "Banana_Leaf_Disease_Dataset_Bangladesh/pestalotiopsis: 117 images processed\n",
      "Coconut Tree Disease Dataset/Bud Root Dropping: 514 images processed\n",
      "Coconut Tree Disease Dataset/Bud Rot: 470 images processed\n",
      "Coconut Tree Disease Dataset/Gray Leaf Spot: 2135 images processed\n",
      "Coconut Tree Disease Dataset/Healthy_Leaves: 123 images processed\n",
      "Coconut Tree Disease Dataset/Leaf Rot: 1673 images processed\n",
      "Coconut Tree Disease Dataset/WCLWD_DryingofLeaflets: 1078 images processed\n",
      "Coconut Tree Disease Dataset/WCLWD_Flaccidity: 1069 images processed\n",
      "Coconut Tree Disease Dataset/WCLWD_Yellowing: 1084 images processed\n",
      "Sugarcane Leaf Disease Dataset/Healthy: 522 images processed\n",
      "Sugarcane Leaf Disease Dataset/Mosaic: 462 images processed\n",
      "Sugarcane Leaf Disease Dataset/RedRot: 518 images processed\n",
      "Sugarcane Leaf Disease Dataset/Rust: 514 images processed\n",
      "Sugarcane Leaf Disease Dataset/Yellow: 505 images processed\n",
      "✅ Dataset successfully split into 70% Train, 15% Validation, 15% Test!\n"
     ]
    }
   ],
   "source": [
    "\n",
    "for crop_type in sorted(os.listdir(ORIGINAL_DATASET)):\n",
    "    crop_path = os.path.join(ORIGINAL_DATASET, crop_type)\n",
    "    if not os.path.isdir(crop_path):\n",
    "        continue\n",
    "\n",
    "    for disease_class in sorted(os.listdir(crop_path)):\n",
    "        class_path = os.path.join(crop_path, disease_class)\n",
    "        if not os.path.isdir(class_path):\n",
    "            continue\n",
    "\n",
    "        # Collect image files in each disease class\n",
    "        images = [\n",
    "            os.path.join(class_path, f)\n",
    "            for f in os.listdir(class_path)\n",
    "            if f.lower().endswith(IMG_EXTENSIONS)\n",
    "        ]\n",
    "\n",
    "        # Output directories\n",
    "        train_out = os.path.join(TRAIN_DIR, crop_type, disease_class)\n",
    "        val_out   = os.path.join(VAL_DIR, crop_type, disease_class)\n",
    "        test_out  = os.path.join(TEST_DIR, crop_type, disease_class)\n",
    "\n",
    "        os.makedirs(train_out, exist_ok=True)\n",
    "        os.makedirs(val_out, exist_ok=True)\n",
    "        os.makedirs(test_out, exist_ok=True)\n",
    "\n",
    "        # Using the copy and splitting function\n",
    "        split_and_copy(images, train_out, val_out, test_out)\n",
    "\n",
    "        # Checking performance per disease in each crop type \n",
    "        print(f\"{crop_type}/{disease_class}: {len(images)} images processed\")\n",
    "\n",
    "print(\"✅ Dataset successfully split into 70% Train, 15% Validation, 15% Test!\")"
   ]
  }
 ],
 "metadata": {
  "kernelspec": {
   "display_name": "Python [conda env:base] *",
   "language": "python",
   "name": "conda-base-py"
  },
  "language_info": {
   "codemirror_mode": {
    "name": "ipython",
    "version": 3
   },
   "file_extension": ".py",
   "mimetype": "text/x-python",
   "name": "python",
   "nbconvert_exporter": "python",
   "pygments_lexer": "ipython3",
   "version": "3.13.5"
  }
 },
 "nbformat": 4,
 "nbformat_minor": 5
}
